{
 "cells": [
  {
   "cell_type": "markdown",
   "metadata": {},
   "source": [
    "# Explainatory Data Analysis"
   ]
  },
  {
   "cell_type": "code",
   "execution_count": 2,
   "metadata": {},
   "outputs": [],
   "source": [
    "# Import relevant libraries\n",
    "import dask.dataframe as dd"
   ]
  },
  {
   "cell_type": "code",
   "execution_count": 17,
   "metadata": {},
   "outputs": [
    {
     "data": {
      "text/html": [
       "<div>\n",
       "<style scoped>\n",
       "    .dataframe tbody tr th:only-of-type {\n",
       "        vertical-align: middle;\n",
       "    }\n",
       "\n",
       "    .dataframe tbody tr th {\n",
       "        vertical-align: top;\n",
       "    }\n",
       "\n",
       "    .dataframe thead th {\n",
       "        text-align: right;\n",
       "    }\n",
       "</style>\n",
       "<table border=\"1\" class=\"dataframe\">\n",
       "  <thead>\n",
       "    <tr style=\"text-align: right;\">\n",
       "      <th></th>\n",
       "      <th>summons_number</th>\n",
       "      <th>plate_id</th>\n",
       "      <th>registration_state</th>\n",
       "      <th>plate_type</th>\n",
       "      <th>issue_date</th>\n",
       "      <th>violation_code</th>\n",
       "      <th>vehicle_body_type</th>\n",
       "      <th>vehicle_make</th>\n",
       "      <th>issuing_agency</th>\n",
       "      <th>street_code1</th>\n",
       "      <th>...</th>\n",
       "      <th>vehicle_color</th>\n",
       "      <th>unregistered_vehicle</th>\n",
       "      <th>vehicle_year</th>\n",
       "      <th>meter_number</th>\n",
       "      <th>feet_from_curb</th>\n",
       "      <th>violation_post_code</th>\n",
       "      <th>violation_description</th>\n",
       "      <th>no_standing_or_stopping</th>\n",
       "      <th>hydrant_violation</th>\n",
       "      <th>double_parking_violation</th>\n",
       "    </tr>\n",
       "  </thead>\n",
       "  <tbody>\n",
       "    <tr>\n",
       "      <th>0</th>\n",
       "      <td>1457617912</td>\n",
       "      <td>JEB5683</td>\n",
       "      <td>NY</td>\n",
       "      <td>PAS</td>\n",
       "      <td>2021-06-25T00:00:00.000</td>\n",
       "      <td>40</td>\n",
       "      <td>VAN</td>\n",
       "      <td>FORD</td>\n",
       "      <td>P</td>\n",
       "      <td>63430</td>\n",
       "      <td>...</td>\n",
       "      <td>GY</td>\n",
       "      <td>0</td>\n",
       "      <td>2007</td>\n",
       "      <td>-</td>\n",
       "      <td>3</td>\n",
       "      <td>NaN</td>\n",
       "      <td>NaN</td>\n",
       "      <td>NaN</td>\n",
       "      <td>NaN</td>\n",
       "      <td>NaN</td>\n",
       "    </tr>\n",
       "    <tr>\n",
       "      <th>1</th>\n",
       "      <td>1457617924</td>\n",
       "      <td>JAN2986</td>\n",
       "      <td>NY</td>\n",
       "      <td>PAS</td>\n",
       "      <td>2021-06-25T00:00:00.000</td>\n",
       "      <td>20</td>\n",
       "      <td>SUBN</td>\n",
       "      <td>DODGE</td>\n",
       "      <td>P</td>\n",
       "      <td>13490</td>\n",
       "      <td>...</td>\n",
       "      <td>BLU</td>\n",
       "      <td>0</td>\n",
       "      <td>2007</td>\n",
       "      <td>-</td>\n",
       "      <td>0</td>\n",
       "      <td>NaN</td>\n",
       "      <td>NaN</td>\n",
       "      <td>NaN</td>\n",
       "      <td>NaN</td>\n",
       "      <td>NaN</td>\n",
       "    </tr>\n",
       "    <tr>\n",
       "      <th>2</th>\n",
       "      <td>1457622427</td>\n",
       "      <td>FJH6630</td>\n",
       "      <td>TX</td>\n",
       "      <td>PAS</td>\n",
       "      <td>2021-06-17T00:00:00.000</td>\n",
       "      <td>98</td>\n",
       "      <td>SDN</td>\n",
       "      <td>AUDI</td>\n",
       "      <td>P</td>\n",
       "      <td>79430</td>\n",
       "      <td>...</td>\n",
       "      <td>WHITE</td>\n",
       "      <td>0</td>\n",
       "      <td>0</td>\n",
       "      <td>-</td>\n",
       "      <td>0</td>\n",
       "      <td>NaN</td>\n",
       "      <td>NaN</td>\n",
       "      <td>NaN</td>\n",
       "      <td>NaN</td>\n",
       "      <td>NaN</td>\n",
       "    </tr>\n",
       "    <tr>\n",
       "      <th>3</th>\n",
       "      <td>1457638629</td>\n",
       "      <td>RD1Y5N</td>\n",
       "      <td>MO</td>\n",
       "      <td>PAS</td>\n",
       "      <td>2021-06-16T00:00:00.000</td>\n",
       "      <td>98</td>\n",
       "      <td>SDN</td>\n",
       "      <td>TOYOT</td>\n",
       "      <td>P</td>\n",
       "      <td>53130</td>\n",
       "      <td>...</td>\n",
       "      <td>TAN</td>\n",
       "      <td>0</td>\n",
       "      <td>2001</td>\n",
       "      <td>-</td>\n",
       "      <td>0</td>\n",
       "      <td>NaN</td>\n",
       "      <td>NaN</td>\n",
       "      <td>NaN</td>\n",
       "      <td>NaN</td>\n",
       "      <td>NaN</td>\n",
       "    </tr>\n",
       "    <tr>\n",
       "      <th>4</th>\n",
       "      <td>1457639580</td>\n",
       "      <td>T503814C</td>\n",
       "      <td>NY</td>\n",
       "      <td>OMT</td>\n",
       "      <td>2021-07-04T00:00:00.000</td>\n",
       "      <td>40</td>\n",
       "      <td>TAXI</td>\n",
       "      <td>HONDA</td>\n",
       "      <td>P</td>\n",
       "      <td>81030</td>\n",
       "      <td>...</td>\n",
       "      <td>WHI</td>\n",
       "      <td>0</td>\n",
       "      <td>2020</td>\n",
       "      <td>-</td>\n",
       "      <td>0</td>\n",
       "      <td>NaN</td>\n",
       "      <td>NaN</td>\n",
       "      <td>NaN</td>\n",
       "      <td>NaN</td>\n",
       "      <td>NaN</td>\n",
       "    </tr>\n",
       "  </tbody>\n",
       "</table>\n",
       "<p>5 rows × 43 columns</p>\n",
       "</div>"
      ],
      "text/plain": [
       "   summons_number  plate_id registration_state plate_type  \\\n",
       "0      1457617912   JEB5683                 NY        PAS   \n",
       "1      1457617924   JAN2986                 NY        PAS   \n",
       "2      1457622427   FJH6630                 TX        PAS   \n",
       "3      1457638629    RD1Y5N                 MO        PAS   \n",
       "4      1457639580  T503814C                 NY        OMT   \n",
       "\n",
       "                issue_date  violation_code vehicle_body_type vehicle_make  \\\n",
       "0  2021-06-25T00:00:00.000              40               VAN         FORD   \n",
       "1  2021-06-25T00:00:00.000              20              SUBN        DODGE   \n",
       "2  2021-06-17T00:00:00.000              98               SDN         AUDI   \n",
       "3  2021-06-16T00:00:00.000              98               SDN        TOYOT   \n",
       "4  2021-07-04T00:00:00.000              40              TAXI        HONDA   \n",
       "\n",
       "  issuing_agency  street_code1  ...  vehicle_color  unregistered_vehicle  \\\n",
       "0              P         63430  ...             GY                     0   \n",
       "1              P         13490  ...            BLU                     0   \n",
       "2              P         79430  ...          WHITE                     0   \n",
       "3              P         53130  ...            TAN                     0   \n",
       "4              P         81030  ...            WHI                     0   \n",
       "\n",
       "   vehicle_year  meter_number  feet_from_curb  violation_post_code  \\\n",
       "0          2007             -               3                  NaN   \n",
       "1          2007             -               0                  NaN   \n",
       "2             0             -               0                  NaN   \n",
       "3          2001             -               0                  NaN   \n",
       "4          2020             -               0                  NaN   \n",
       "\n",
       "   violation_description no_standing_or_stopping  hydrant_violation  \\\n",
       "0                    NaN                     NaN                NaN   \n",
       "1                    NaN                     NaN                NaN   \n",
       "2                    NaN                     NaN                NaN   \n",
       "3                    NaN                     NaN                NaN   \n",
       "4                    NaN                     NaN                NaN   \n",
       "\n",
       "  double_parking_violation  \n",
       "0                      NaN  \n",
       "1                      NaN  \n",
       "2                      NaN  \n",
       "3                      NaN  \n",
       "4                      NaN  \n",
       "\n",
       "[5 rows x 43 columns]"
      ]
     },
     "execution_count": 17,
     "metadata": {},
     "output_type": "execute_result"
    }
   ],
   "source": [
    "# Read in dataset\n",
    "df = dd.read_parquet(\"../data/1_PREPARED/parking_ticket_2022.parquet\")\n",
    "df.head(5)"
   ]
  },
  {
   "cell_type": "code",
   "execution_count": 16,
   "metadata": {},
   "outputs": [
    {
     "data": {
      "text/plain": [
       "summons_number                int16\n",
       "plate_id                     object\n",
       "registration_state           object\n",
       "plate_type                   object\n",
       "issue_date                   object\n",
       "violation_code                int16\n",
       "vehicle_body_type            object\n",
       "vehicle_make                 object\n",
       "issuing_agency               object\n",
       "street_code1                  int64\n",
       "street_code2                  int64\n",
       "street_code3                  int64\n",
       "vehicle_expiration_date       int64\n",
       "violation_location          float64\n",
       "violation_precinct            int64\n",
       "issuer_precinct               int64\n",
       "issuer_code                   int64\n",
       "issuer_command               object\n",
       "issuer_squad                  int64\n",
       "violation_time               object\n",
       "time_first_observed          object\n",
       "violation_county             object\n",
       "violation_in_front_of_or     object\n",
       "house_number                 object\n",
       "street_name                  object\n",
       "intersecting_street          object\n",
       "date_first_observed           int64\n",
       "law_section                   int64\n",
       "sub_division                 object\n",
       "violation_legal_code        float64\n",
       "days_parking_in_effect       object\n",
       "from_hours_in_effect         object\n",
       "to_hours_in_effect           object\n",
       "vehicle_color                object\n",
       "unregistered_vehicle          int64\n",
       "vehicle_year                  int64\n",
       "meter_number                 object\n",
       "feet_from_curb                int64\n",
       "violation_post_code         float64\n",
       "violation_description       float64\n",
       "no_standing_or_stopping     float64\n",
       "hydrant_violation           float64\n",
       "double_parking_violation    float64\n",
       "dtype: object"
      ]
     },
     "execution_count": 16,
     "metadata": {},
     "output_type": "execute_result"
    }
   ],
   "source": [
    "df.dtypes"
   ]
  },
  {
   "cell_type": "code",
   "execution_count": 11,
   "metadata": {},
   "outputs": [
    {
     "data": {
      "text/plain": [
       "Index(['summons_number', 'plate_id', 'registration_state', 'plate_type',\n",
       "       'issue_date', 'violation_code', 'vehicle_body_type', 'vehicle_make',\n",
       "       'issuing_agency', 'street_code1', 'street_code2', 'street_code3',\n",
       "       'vehicle_expiration_date', 'violation_location', 'violation_precinct',\n",
       "       'issuer_precinct', 'issuer_code', 'issuer_command', 'issuer_squad',\n",
       "       'violation_time', 'time_first_observed', 'violation_county',\n",
       "       'violation_in_front_of_or', 'house_number', 'street_name',\n",
       "       'intersecting_street', 'date_first_observed', 'law_section',\n",
       "       'sub_division', 'violation_legal_code', 'days_parking_in_effect',\n",
       "       'from_hours_in_effect', 'to_hours_in_effect', 'vehicle_color',\n",
       "       'unregistered_vehicle', 'vehicle_year', 'meter_number',\n",
       "       'feet_from_curb', 'violation_post_code', 'violation_description',\n",
       "       'no_standing_or_stopping', 'hydrant_violation',\n",
       "       'double_parking_violation'],\n",
       "      dtype='object')"
      ]
     },
     "execution_count": 11,
     "metadata": {},
     "output_type": "execute_result"
    }
   ],
   "source": [
    "df.columns"
   ]
  },
  {
   "cell_type": "code",
   "execution_count": 13,
   "metadata": {},
   "outputs": [
    {
     "data": {
      "text/plain": [
       "0      0130A\n",
       "1      0225A\n",
       "2      0809P\n",
       "3      0605P\n",
       "4      1058P\n",
       "       ...  \n",
       "995    1235A\n",
       "996    0710A\n",
       "997    0715A\n",
       "998    1123A\n",
       "999    0133P\n",
       "Name: violation_time, Length: 1000, dtype: object"
      ]
     },
     "execution_count": 13,
     "metadata": {},
     "output_type": "execute_result"
    }
   ],
   "source": [
    "df['violation_time'].compute()"
   ]
  },
  {
   "cell_type": "code",
   "execution_count": 10,
   "metadata": {},
   "outputs": [
    {
     "data": {
      "text/plain": [
       "False"
      ]
     },
     "execution_count": 10,
     "metadata": {},
     "output_type": "execute_result"
    }
   ],
   "source": [
    "df.known_divisions "
   ]
  },
  {
   "cell_type": "code",
   "execution_count": 2,
   "metadata": {},
   "outputs": [],
   "source": [
    "## Total Number of parking tickets"
   ]
  },
  {
   "cell_type": "code",
   "execution_count": 3,
   "metadata": {},
   "outputs": [],
   "source": [
    "## Total Number of parking tickets per district"
   ]
  },
  {
   "cell_type": "code",
   "execution_count": 4,
   "metadata": {},
   "outputs": [],
   "source": [
    "## Total Number of parking tickets per day"
   ]
  },
  {
   "cell_type": "code",
   "execution_count": 5,
   "metadata": {},
   "outputs": [],
   "source": [
    "## Total Number of parking tickets depending on the weather"
   ]
  },
  {
   "cell_type": "code",
   "execution_count": 6,
   "metadata": {},
   "outputs": [],
   "source": [
    "## Total Number of parking tickets distant to schools\n",
    "\n",
    "## Total Number of parking tickets distant to businesses\n",
    "\n",
    "## Total Number of parking tickets distant to tourist attractions"
   ]
  },
  {
   "cell_type": "code",
   "execution_count": null,
   "metadata": {},
   "outputs": [],
   "source": []
  }
 ],
 "metadata": {
  "kernelspec": {
   "display_name": "Python 3 (ipykernel)",
   "language": "python",
   "name": "python3"
  },
  "language_info": {
   "codemirror_mode": {
    "name": "ipython",
    "version": 3
   },
   "file_extension": ".py",
   "mimetype": "text/x-python",
   "name": "python",
   "nbconvert_exporter": "python",
   "pygments_lexer": "ipython3",
   "version": "3.9.16"
  }
 },
 "nbformat": 4,
 "nbformat_minor": 4
}
